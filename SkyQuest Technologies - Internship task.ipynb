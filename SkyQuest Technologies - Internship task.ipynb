{
 "cells": [
  {
   "cell_type": "code",
   "execution_count": 1,
   "metadata": {},
   "outputs": [],
   "source": [
    "# Import various important libraries to initialize Web Driver\n",
    "# pip install webdriver-manager\n",
    "from selenium import webdriver\n",
    "from selenium.webdriver.chrome.service import Service\n",
    "from webdriver_manager.chrome import ChromeDriverManager"
   ]
  },
  {
   "cell_type": "code",
   "execution_count": 2,
   "metadata": {},
   "outputs": [],
   "source": [
    "# Import libraries for Explicitly waiit\n",
    "from selenium.webdriver.support.ui import WebDriverWait\n",
    "from selenium.webdriver.support import expected_conditions as EC\n",
    "from selenium.webdriver.common.by import By"
   ]
  },
  {
   "cell_type": "code",
   "execution_count": 19,
   "metadata": {},
   "outputs": [],
   "source": [
    "import pandas as pd"
   ]
  },
  {
   "cell_type": "code",
   "execution_count": 3,
   "metadata": {},
   "outputs": [
    {
     "name": "stderr",
     "output_type": "stream",
     "text": [
      "\n",
      "\n",
      "====== WebDriver manager ======\n",
      "Current google-chrome version is 100.0.4896\n",
      "Get LATEST chromedriver version for 100.0.4896 google-chrome\n",
      "Driver [C:\\Users\\Asus\\.wdm\\drivers\\chromedriver\\win32\\100.0.4896.60\\chromedriver.exe] found in cache\n"
     ]
    },
    {
     "data": {
      "text/plain": [
       "<selenium.webdriver.chrome.webdriver.WebDriver (session=\"b086affcb5d8e81b10608d7e7ca904fa\")>"
      ]
     },
     "execution_count": 3,
     "metadata": {},
     "output_type": "execute_result"
    }
   ],
   "source": [
    "# Initializing Web Driver Session\n",
    "s=Service(ChromeDriverManager().install())\n",
    "driver = webdriver.Chrome(executable_path='C:/Users/Asus/.wdm/drivers/chromedriver/win32/100.0.4896.60/chromedriver.exe')\n",
    "driver"
   ]
  },
  {
   "cell_type": "code",
   "execution_count": 4,
   "metadata": {},
   "outputs": [],
   "source": [
    "driver.get('https://www.giiresearch.com/material_report.shtml')\n",
    "\n",
    "driver.implicitly_wait(25)"
   ]
  },
  {
   "cell_type": "code",
   "execution_count": 5,
   "metadata": {},
   "outputs": [],
   "source": [
    "driver.find_elements_by_xpath('//select[@class=\"slct_limit\"]/option[@value=\"100\"]')[0].click()"
   ]
  },
  {
   "cell_type": "code",
   "execution_count": 6,
   "metadata": {},
   "outputs": [],
   "source": [
    "record_dict={\"title\":[],\"published by\":[],\"product code\":[],\"published\":[],\"content info\":[],\"price\":[]}"
   ]
  },
  {
   "cell_type": "code",
   "execution_count": 11,
   "metadata": {},
   "outputs": [],
   "source": [
    "while(True):\n",
    "    \n",
    "    record_list100=driver.find_elements_by_xpath('//table[@class=\"plist_item\"]')\n",
    "    \n",
    "    for i in record_list100:\n",
    "        \n",
    "        text=i.text.split(\"\\n\")\n",
    "        \n",
    "        record_dict[\"title\"].append(text[0])\n",
    "        record_dict[\"published by\"].append(text[2])\n",
    "        record_dict[\"product code\"].append(text[4])\n",
    "        record_dict[\"published\"].append(text[6])\n",
    "        record_dict[\"content info\"].append(text[8])\n",
    "        record_dict[\"price\"].append(text[10])\n",
    "    \n",
    "    try:\n",
    "        nxt_btn = WebDriverWait(driver, 20).until(EC.presence_of_element_located((By.XPATH, '//button[@class=\"btn_next\"]')))\n",
    "    except:\n",
    "        break\n",
    "    \n",
    "    nxt_btn.click()"
   ]
  },
  {
   "cell_type": "code",
   "execution_count": 20,
   "metadata": {},
   "outputs": [
    {
     "data": {
      "text/html": [
       "<div>\n",
       "<style scoped>\n",
       "    .dataframe tbody tr th:only-of-type {\n",
       "        vertical-align: middle;\n",
       "    }\n",
       "\n",
       "    .dataframe tbody tr th {\n",
       "        vertical-align: top;\n",
       "    }\n",
       "\n",
       "    .dataframe thead th {\n",
       "        text-align: right;\n",
       "    }\n",
       "</style>\n",
       "<table border=\"1\" class=\"dataframe\">\n",
       "  <thead>\n",
       "    <tr style=\"text-align: right;\">\n",
       "      <th></th>\n",
       "      <th>title</th>\n",
       "      <th>published by</th>\n",
       "      <th>product code</th>\n",
       "      <th>published</th>\n",
       "      <th>content info</th>\n",
       "      <th>price</th>\n",
       "    </tr>\n",
       "  </thead>\n",
       "  <tbody>\n",
       "    <tr>\n",
       "      <th>0</th>\n",
       "      <td>Re-Refined Base Oil Market - Global Outlook &amp; ...</td>\n",
       "      <td>Arizton Advisory &amp; Intelligence</td>\n",
       "      <td>1069856</td>\n",
       "      <td>April 14, 2022</td>\n",
       "      <td>294 Pages</td>\n",
       "      <td>USD 3750</td>\n",
       "    </tr>\n",
       "    <tr>\n",
       "      <th>1</th>\n",
       "      <td>Poly Alpha Olefin (PAO) Market - Global Outloo...</td>\n",
       "      <td>Arizton Advisory &amp; Intelligence</td>\n",
       "      <td>1069854</td>\n",
       "      <td>April 14, 2022</td>\n",
       "      <td>222 Pages</td>\n",
       "      <td>USD 3750</td>\n",
       "    </tr>\n",
       "    <tr>\n",
       "      <th>2</th>\n",
       "      <td>Medical Device Packaging Market - Global Outlo...</td>\n",
       "      <td>Arizton Advisory &amp; Intelligence</td>\n",
       "      <td>1069849</td>\n",
       "      <td>April 14, 2022</td>\n",
       "      <td>299 Pages</td>\n",
       "      <td>USD 3750</td>\n",
       "    </tr>\n",
       "    <tr>\n",
       "      <th>3</th>\n",
       "      <td>Group II &amp; III Base Oil Market - Global Outloo...</td>\n",
       "      <td>Arizton Advisory &amp; Intelligence</td>\n",
       "      <td>1069847</td>\n",
       "      <td>April 14, 2022</td>\n",
       "      <td>259 Pages</td>\n",
       "      <td>USD 3750</td>\n",
       "    </tr>\n",
       "    <tr>\n",
       "      <th>4</th>\n",
       "      <td>Garden Pesticides Market - Global Outlook &amp; Fo...</td>\n",
       "      <td>Arizton Advisory &amp; Intelligence</td>\n",
       "      <td>1069845</td>\n",
       "      <td>April 14, 2022</td>\n",
       "      <td>287 Pages</td>\n",
       "      <td>USD 3500</td>\n",
       "    </tr>\n",
       "  </tbody>\n",
       "</table>\n",
       "</div>"
      ],
      "text/plain": [
       "                                               title  \\\n",
       "0  Re-Refined Base Oil Market - Global Outlook & ...   \n",
       "1  Poly Alpha Olefin (PAO) Market - Global Outloo...   \n",
       "2  Medical Device Packaging Market - Global Outlo...   \n",
       "3  Group II & III Base Oil Market - Global Outloo...   \n",
       "4  Garden Pesticides Market - Global Outlook & Fo...   \n",
       "\n",
       "                      published by product code       published content info  \\\n",
       "0  Arizton Advisory & Intelligence      1069856  April 14, 2022    294 Pages   \n",
       "1  Arizton Advisory & Intelligence      1069854  April 14, 2022    222 Pages   \n",
       "2  Arizton Advisory & Intelligence      1069849  April 14, 2022    299 Pages   \n",
       "3  Arizton Advisory & Intelligence      1069847  April 14, 2022    259 Pages   \n",
       "4  Arizton Advisory & Intelligence      1069845  April 14, 2022    287 Pages   \n",
       "\n",
       "      price  \n",
       "0  USD 3750  \n",
       "1  USD 3750  \n",
       "2  USD 3750  \n",
       "3  USD 3750  \n",
       "4  USD 3500  "
      ]
     },
     "execution_count": 20,
     "metadata": {},
     "output_type": "execute_result"
    }
   ],
   "source": [
    "df=pd.DataFrame(record_dict)\n",
    "df.head()"
   ]
  },
  {
   "cell_type": "code",
   "execution_count": 22,
   "metadata": {},
   "outputs": [],
   "source": [
    "df.to_csv('records.csv',encoding='utf-8',index=False)"
   ]
  },
  {
   "cell_type": "code",
   "execution_count": 24,
   "metadata": {},
   "outputs": [],
   "source": [
    "driver.close()"
   ]
  }
 ],
 "metadata": {
  "kernelspec": {
   "display_name": "Python 3",
   "language": "python",
   "name": "python3"
  },
  "language_info": {
   "codemirror_mode": {
    "name": "ipython",
    "version": 3
   },
   "file_extension": ".py",
   "mimetype": "text/x-python",
   "name": "python",
   "nbconvert_exporter": "python",
   "pygments_lexer": "ipython3",
   "version": "3.8.5"
  }
 },
 "nbformat": 4,
 "nbformat_minor": 4
}
