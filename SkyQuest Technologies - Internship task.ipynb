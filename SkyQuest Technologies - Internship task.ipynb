{
 "cells": [
  {
   "cell_type": "code",
   "execution_count": 112,
   "metadata": {},
   "outputs": [],
   "source": [
    "# Import various important libraries to initialize Web Driver\n",
    "# pip install webdriver-manager\n",
    "from selenium import webdriver\n",
    "from selenium.webdriver.chrome.service import Service\n",
    "from webdriver_manager.chrome import ChromeDriverManager"
   ]
  },
  {
   "cell_type": "code",
   "execution_count": 162,
   "metadata": {},
   "outputs": [],
   "source": [
    "# Import libraries for Explicitly waiit\n",
    "from selenium.webdriver.support.ui import WebDriverWait\n",
    "from selenium.webdriver.support import expected_conditions as EC\n",
    "from selenium.webdriver.common.by import By"
   ]
  },
  {
   "cell_type": "code",
   "execution_count": 163,
   "metadata": {},
   "outputs": [],
   "source": [
    "import pandas as pd\n",
    "from bs4 import BeautifulSoup"
   ]
  },
  {
   "cell_type": "code",
   "execution_count": 170,
   "metadata": {},
   "outputs": [
    {
     "name": "stderr",
     "output_type": "stream",
     "text": [
      "\n",
      "\n",
      "====== WebDriver manager ======\n",
      "Current google-chrome version is 100.0.4896\n",
      "Get LATEST chromedriver version for 100.0.4896 google-chrome\n",
      "Driver [C:\\Users\\Asus\\.wdm\\drivers\\chromedriver\\win32\\100.0.4896.60\\chromedriver.exe] found in cache\n"
     ]
    },
    {
     "data": {
      "text/plain": [
       "<selenium.webdriver.chrome.webdriver.WebDriver (session=\"603b4febf90568cfa9419c990c48b75b\")>"
      ]
     },
     "execution_count": 170,
     "metadata": {},
     "output_type": "execute_result"
    }
   ],
   "source": [
    "# Initializing Web Driver Session\n",
    "s=Service(ChromeDriverManager().install())\n",
    "driver = webdriver.Chrome(executable_path='C:/Users/Asus/.wdm/drivers/chromedriver/win32/100.0.4896.60/chromedriver.exe')\n",
    "driver"
   ]
  },
  {
   "cell_type": "code",
   "execution_count": 171,
   "metadata": {},
   "outputs": [],
   "source": [
    "# load url \n",
    "driver.get('https://www.giiresearch.com/material_report.shtml')\n",
    "\n",
    "driver.implicitly_wait(25)"
   ]
  },
  {
   "cell_type": "code",
   "execution_count": 172,
   "metadata": {},
   "outputs": [],
   "source": [
    "# Display 100 records in one page \n",
    "driver.find_elements_by_xpath('//select[@class=\"slct_limit\"]/option[@value=\"100\"]')[0].click()"
   ]
  },
  {
   "cell_type": "code",
   "execution_count": 173,
   "metadata": {},
   "outputs": [],
   "source": [
    "record_dict={\"Published Date\":[],\"Category/Industry\":[],\"Report title\":[],\"Summary/Description/Snapshot\":[],\n",
    "             \"No. of Pages\":[], \"Table of Content\":[],\"List of Tables\":[]}"
   ]
  },
  {
   "cell_type": "code",
   "execution_count": 174,
   "metadata": {},
   "outputs": [],
   "source": [
    "for i in range(0,200,2):\n",
    "    \n",
    "               \n",
    "    record=driver.find_elements_by_xpath('//div[@class=\"list_title\"]/a')\n",
    "    record[i].click()\n",
    "    \n",
    "    record_dict[\"Published Date\"].append(driver.find_elements_by_xpath('//time[@itemprop=\"datePublished\"]')[0].text)\n",
    "    \n",
    "    record_dict[\"Category/Industry\"].append(driver.find_elements_by_xpath('//div[@class=\"topic_path nocontent\"]')[0].text.split(\">\")[2].strip())\n",
    "    \n",
    "    record_dict[\"Report title\"].append(driver.find_elements_by_xpath('//h1[@class=\"product_title clear\"]')[0].text)\n",
    "    \n",
    "    record_dict[\"Summary/Description/Snapshot\"].append(BeautifulSoup(driver.find_elements_by_xpath('//div[@class=\"cntSecContent\"]')[0].text,'html.parser'))\n",
    "    \n",
    "    try:\n",
    "        record_dict[\"No. of Pages\"].append(driver.find_elements_by_xpath('//span[@class=\"prod_info_box_txt\"]')[2].text.split()[0])\n",
    "    except:\n",
    "        record_dict[\"No. of Pages\"].append(\"\")\n",
    "    \n",
    "    driver.find_elements_by_xpath('//ul[@id=\"Tab\"]/li')[1].click()\n",
    "    record_dict[\"Table of Content\"].append(BeautifulSoup(driver.find_elements_by_xpath('//div[@class=\"cntSecContent\"]')[1].text,'html.parser'))\n",
    "    \n",
    "    try:\n",
    "        driver.find_elements_by_xpath('//ul[@id=\"Tab\"]/li')[2].click()\n",
    "        record_dict[\"List of Tables\"].append(BeautifulSoup(driver.find_elements_by_xpath('//div[@class=\"cntSecContent\"]')[2].text,'html.parser'))\n",
    "    except:\n",
    "        record_dict[\"List of Tables\"].append(\"\")\n",
    "    \n",
    "    driver.back()"
   ]
  },
  {
   "cell_type": "code",
   "execution_count": 176,
   "metadata": {},
   "outputs": [
    {
     "data": {
      "text/html": [
       "<div>\n",
       "<style scoped>\n",
       "    .dataframe tbody tr th:only-of-type {\n",
       "        vertical-align: middle;\n",
       "    }\n",
       "\n",
       "    .dataframe tbody tr th {\n",
       "        vertical-align: top;\n",
       "    }\n",
       "\n",
       "    .dataframe thead th {\n",
       "        text-align: right;\n",
       "    }\n",
       "</style>\n",
       "<table border=\"1\" class=\"dataframe\">\n",
       "  <thead>\n",
       "    <tr style=\"text-align: right;\">\n",
       "      <th></th>\n",
       "      <th>Published Date</th>\n",
       "      <th>Category/Industry</th>\n",
       "      <th>Report title</th>\n",
       "      <th>Summary/Description/Snapshot</th>\n",
       "      <th>No. of Pages</th>\n",
       "      <th>Table of Content</th>\n",
       "      <th>List of Tables</th>\n",
       "    </tr>\n",
       "  </thead>\n",
       "  <tbody>\n",
       "    <tr>\n",
       "      <th>0</th>\n",
       "      <td>April 18, 2022</td>\n",
       "      <td>Advanced MaterialFiber</td>\n",
       "      <td>Global Synthetic Fibres (Polyester, Nylon, Acr...</td>\n",
       "      <td>[The global synthetic fibres market is expecte...</td>\n",
       "      <td>105</td>\n",
       "      <td>[Table of Contents\\n1. Market Overview\\n1.1 In...</td>\n",
       "      <td></td>\n",
       "    </tr>\n",
       "    <tr>\n",
       "      <th>1</th>\n",
       "      <td>April 18, 2022</td>\n",
       "      <td>Advanced Material</td>\n",
       "      <td>Global Helium Market: Insights &amp; Forecast with...</td>\n",
       "      <td>[The global helium market is forecasted to rea...</td>\n",
       "      <td>87</td>\n",
       "      <td>[Table of Contents\\n1. Market Overview\\n1.1 He...</td>\n",
       "      <td></td>\n",
       "    </tr>\n",
       "    <tr>\n",
       "      <th>2</th>\n",
       "      <td>April 18, 2022</td>\n",
       "      <td>Advanced Material</td>\n",
       "      <td>Global Petrochemical Market (By Type &amp; Region)...</td>\n",
       "      <td>[The global petrochemical market is forecasted...</td>\n",
       "      <td>104</td>\n",
       "      <td>[Table of Contents\\n1. Market Overview\\n1.1 Pe...</td>\n",
       "      <td></td>\n",
       "    </tr>\n",
       "    <tr>\n",
       "      <th>3</th>\n",
       "      <td>April 18, 2022</td>\n",
       "      <td>Advanced Material</td>\n",
       "      <td>Global Surfactants Market (Non-ionic, Anionic ...</td>\n",
       "      <td>[The global surfactants market value is foreca...</td>\n",
       "      <td>116</td>\n",
       "      <td>[Table of Contents\\n1. Market Overview\\n1.1 In...</td>\n",
       "      <td></td>\n",
       "    </tr>\n",
       "    <tr>\n",
       "      <th>4</th>\n",
       "      <td>April 14, 2022</td>\n",
       "      <td>Advanced Material</td>\n",
       "      <td>Re-Refined Base Oil Market - Global Outlook &amp; ...</td>\n",
       "      <td>[The In-depth Analysis and Data-driven Insight...</td>\n",
       "      <td>294</td>\n",
       "      <td>[Product Code: ARZ220303\\nTABLE OF CONTENTS\\n1...</td>\n",
       "      <td>[LIST OF EXHIBITS\\nEXHIBIT 1 SEGMENTATION OF G...</td>\n",
       "    </tr>\n",
       "  </tbody>\n",
       "</table>\n",
       "</div>"
      ],
      "text/plain": [
       "   Published Date       Category/Industry  \\\n",
       "0  April 18, 2022  Advanced MaterialFiber   \n",
       "1  April 18, 2022       Advanced Material   \n",
       "2  April 18, 2022       Advanced Material   \n",
       "3  April 18, 2022       Advanced Material   \n",
       "4  April 14, 2022       Advanced Material   \n",
       "\n",
       "                                        Report title  \\\n",
       "0  Global Synthetic Fibres (Polyester, Nylon, Acr...   \n",
       "1  Global Helium Market: Insights & Forecast with...   \n",
       "2  Global Petrochemical Market (By Type & Region)...   \n",
       "3  Global Surfactants Market (Non-ionic, Anionic ...   \n",
       "4  Re-Refined Base Oil Market - Global Outlook & ...   \n",
       "\n",
       "                        Summary/Description/Snapshot No. of Pages  \\\n",
       "0  [The global synthetic fibres market is expecte...          105   \n",
       "1  [The global helium market is forecasted to rea...           87   \n",
       "2  [The global petrochemical market is forecasted...          104   \n",
       "3  [The global surfactants market value is foreca...          116   \n",
       "4  [The In-depth Analysis and Data-driven Insight...          294   \n",
       "\n",
       "                                    Table of Content  \\\n",
       "0  [Table of Contents\\n1. Market Overview\\n1.1 In...   \n",
       "1  [Table of Contents\\n1. Market Overview\\n1.1 He...   \n",
       "2  [Table of Contents\\n1. Market Overview\\n1.1 Pe...   \n",
       "3  [Table of Contents\\n1. Market Overview\\n1.1 In...   \n",
       "4  [Product Code: ARZ220303\\nTABLE OF CONTENTS\\n1...   \n",
       "\n",
       "                                      List of Tables  \n",
       "0                                                     \n",
       "1                                                     \n",
       "2                                                     \n",
       "3                                                     \n",
       "4  [LIST OF EXHIBITS\\nEXHIBIT 1 SEGMENTATION OF G...  "
      ]
     },
     "execution_count": 176,
     "metadata": {},
     "output_type": "execute_result"
    }
   ],
   "source": [
    "df=pd.DataFrame(record_dict)\n",
    "df.head()"
   ]
  },
  {
   "cell_type": "code",
   "execution_count": 177,
   "metadata": {},
   "outputs": [],
   "source": [
    "df.to_csv('records_csv.csv',encoding='utf-8',index=False)"
   ]
  },
  {
   "cell_type": "code",
   "execution_count": 178,
   "metadata": {},
   "outputs": [],
   "source": [
    "driver.close()"
   ]
  },
  {
   "cell_type": "code",
   "execution_count": null,
   "metadata": {},
   "outputs": [],
   "source": []
  }
 ],
 "metadata": {
  "kernelspec": {
   "display_name": "Python 3",
   "language": "python",
   "name": "python3"
  },
  "language_info": {
   "codemirror_mode": {
    "name": "ipython",
    "version": 3
   },
   "file_extension": ".py",
   "mimetype": "text/x-python",
   "name": "python",
   "nbconvert_exporter": "python",
   "pygments_lexer": "ipython3",
   "version": "3.8.5"
  }
 },
 "nbformat": 4,
 "nbformat_minor": 4
}
